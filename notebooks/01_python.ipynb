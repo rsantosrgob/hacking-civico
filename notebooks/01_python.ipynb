{
  "nbformat": 4,
  "nbformat_minor": 0,
  "metadata": {
    "colab": {
      "name": "01-python.ipynb",
      "provenance": [],
      "collapsed_sections": [],
      "authorship_tag": "ABX9TyOe+h9yTo2xhDA85ihO5y+D",
      "include_colab_link": true
    },
    "kernelspec": {
      "name": "python3",
      "display_name": "Python 3"
    }
  },
  "cells": [
    {
      "cell_type": "markdown",
      "metadata": {
        "id": "view-in-github",
        "colab_type": "text"
      },
      "source": [
        "<a href=\"https://colab.research.google.com/github/rsantosrgob/hacking-civico/blob/master/notebooks/01_python.ipynb\" target=\"_parent\"><img src=\"https://colab.research.google.com/assets/colab-badge.svg\" alt=\"Open In Colab\"/></a>"
      ]
    },
    {
      "cell_type": "markdown",
      "metadata": {
        "id": "2j-J6xAty5Z0",
        "colab_type": "text"
      },
      "source": [
        "  <div id=\"readme\" class=\"Box md js-code-block-container Box--responsive\">\n",
        "      <div class=\"Box-body px-5 pb-5\">\n",
        "        <article class=\"markdown-body entry-content container-lg\" itemprop=\"text\"><p align=\"center\">\n",
        "<a target=\"_blank\" rel=\"noopener noreferrer\" href=\"https://camo.githubusercontent.com/c07551da1fb9d966dd146ce3c79909bf4e282630/687474703a2f2f636f6465616e646f6d657869636f2e6f72672f7265736f75726365732f696d672f636f6465616e646f6d657869636f2e706e67\"><img src=\"https://camo.githubusercontent.com/c07551da1fb9d966dd146ce3c79909bf4e282630/687474703a2f2f636f6465616e646f6d657869636f2e6f72672f7265736f75726365732f696d672f636f6465616e646f6d657869636f2e706e67\" width=\"500\" alt=\"Codeando México\" data-canonical-src=\"http://codeandomexico.org/resources/img/codeandomexico.png\" style=\"max-width:100%;\"></a><br>\n",
        "<a href=\"http://www.codeandomexico.org/\" rel=\"nofollow\"><img src=\"https://camo.githubusercontent.com/7f6869a7dc68ab17901882b66ed09498c5d693de/68747470733a2f2f696d672e736869656c64732e696f2f62616467652f776562736974652d436f6465616e646f4d657869636f2d3030443838452e737667\" data-canonical-src=\"https://img.shields.io/badge/website-CodeandoMexico-00D88E.svg\" style=\"max-width:100%;\"></a>\n",
        "<a href=\"http://slack.codeandomexico.org/\" rel=\"nofollow\"><img src=\"https://camo.githubusercontent.com/68911ed093b9620525e534a08faea94cc3941cb5/68747470733a2f2f696d672e736869656c64732e696f2f62616467652f736c61636b2d436f6465616e646f4d657869636f2d4543304534462e737667\" data-canonical-src=\"https://img.shields.io/badge/slack-CodeandoMexico-EC0E4F.svg\" style=\"max-width:100%;\"></a>\n",
        "</p>\n",
        "\n",
        "<h1><a id=\"user-content-curso-de-datos-abiertos-y-hacking-cívico\" class=\"anchor\" aria-hidden=\"true\" href=\"#curso-de-datos-abiertos-y-hacking-cívico\"><svg class=\"octicon octicon-link\" viewBox=\"0 0 16 16\" version=\"1.1\" width=\"16\" height=\"16\" aria-hidden=\"true\"><path fill-rule=\"evenodd\" d=\"M7.775 3.275a.75.75 0 001.06 1.06l1.25-1.25a2 2 0 112.83 2.83l-2.5 2.5a2 2 0 01-2.83 0 .75.75 0 00-1.06 1.06 3.5 3.5 0 004.95 0l2.5-2.5a3.5 3.5 0 00-4.95-4.95l-1.25 1.25zm-4.69 9.64a2 2 0 010-2.83l2.5-2.5a2 2 0 012.83 0 .75.75 0 001.06-1.06 3.5 3.5 0 00-4.95 0l-2.5 2.5a3.5 3.5 0 004.95 4.95l1.25-1.25a.75.75 0 00-1.06-1.06l-1.25 1.25a2 2 0 01-2.83 0z\"></path></svg></a>Curso de Datos Abiertos y Hacking Cívico</h1>\n",
        "<p>Este curso tiene como objetivo habilitar las capacidades de la ciudadanía y los servidores públicos en el uso y generación de datos abiertos para el bien común. Está estructurado en tres módulos consecutivos, llamados “<em>rutas</em>”, cada una de estas rutas está diseñada para abarcar temas específicos. El curso es virtual de tipo autogestivo.</p>\n",
        "<p><em>No se requiere de conocimiento previo sobre los temas, el nivel del curso abarca conceptos básicos a intermedios.</em></p>\n",
        "<ol>\n",
        "<li>Ruta Cívica <g-emoji class=\"g-emoji\" alias=\"zap\" fallback-src=\"https://github.githubassets.com/images/icons/emoji/unicode/26a1.png\">⚡️</g-emoji> : Conoce qué son los datos abiertos y la tecnología cívica.</li>\n",
        "<li>Ruta Coder <g-emoji class=\"g-emoji\" alias=\"keyboard\" fallback-src=\"https://github.githubassets.com/images/icons/emoji/unicode/2328.png\">⌨️</g-emoji> : Comienza a programar y desarrolla tus primeros hacks cívicos.</li>\n",
        "<li>Ruta Hacker <g-emoji class=\"g-emoji\" alias=\"space_invader\" fallback-src=\"https://github.githubassets.com/images/icons/emoji/unicode/1f47e.png\">👾</g-emoji> : Pon en uso tus habilidades de programación y desarrollo.</li>\n",
        "</ol>"
      ]
    },
    {
      "cell_type": "code",
      "metadata": {
        "id": "Xzp4iqQey8Yl",
        "colab_type": "code",
        "colab": {
          "base_uri": "https://localhost:8080/",
          "height": 34
        },
        "outputId": "5b5583c9-4be0-4a4f-9dbc-4ff9e4119917"
      },
      "source": [
        "print(\"Hola Mundo\")"
      ],
      "execution_count": 1,
      "outputs": [
        {
          "output_type": "stream",
          "text": [
            "Hola Mundo\n"
          ],
          "name": "stdout"
        }
      ]
    }
  ]
}