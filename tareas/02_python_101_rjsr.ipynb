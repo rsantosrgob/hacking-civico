{
  "nbformat": 4,
  "nbformat_minor": 0,
  "metadata": {
    "colab": {
      "name": "02-python-101-rjsr.ipynb",
      "provenance": [],
      "authorship_tag": "ABX9TyNER0JB5NKdUU8T9jGA1xG0",
      "include_colab_link": true
    },
    "kernelspec": {
      "name": "python3",
      "display_name": "Python 3"
    }
  },
  "cells": [
    {
      "cell_type": "markdown",
      "metadata": {
        "id": "view-in-github",
        "colab_type": "text"
      },
      "source": [
        "<a href=\"https://colab.research.google.com/github/rsantosrgob/hacking-civico/blob/master/tareas/02_python_101_rjsr.ipynb\" target=\"_parent\"><img src=\"https://colab.research.google.com/assets/colab-badge.svg\" alt=\"Open In Colab\"/></a>"
      ]
    },
    {
      "cell_type": "markdown",
      "metadata": {
        "id": "Q4TblYASuzma",
        "colab_type": "text"
      },
      "source": [
        "#Tarea 2"
      ]
    },
    {
      "cell_type": "markdown",
      "metadata": {
        "id": "durnTAWhu5yX",
        "colab_type": "text"
      },
      "source": [
        "## Densidad poblacional\n",
        "\n",
        "\n",
        "\n",
        "* **Guanajuato capital:** 184,239 habitantes\n",
        "* **Edo. Guanajuato:** 5,853,677 habitantes\n",
        "* **México:** 119 530 753 habitantes\n"
      ]
    },
    {
      "cell_type": "markdown",
      "metadata": {
        "id": "oBIY6-dRvaZn",
        "colab_type": "text"
      },
      "source": [
        "# Superficies Km<sup>2</sup>\n",
        "\n",
        "* **Guanajuato capital:** 1014,54 Km<sup>2</sup>\n",
        "* **Edo. Guanajuato:** 30.607 Km<sup>2</sup>\n",
        "* **México:** 1,973,000,000 Km<sup>2</sup>"
      ]
    },
    {
      "cell_type": "markdown",
      "metadata": {
        "id": "ryycULE_wB9W",
        "colab_type": "text"
      },
      "source": [
        "### Fuente Densidad Poblacional [INEGI](http://cuentame.inegi.org.mx/monografias/informacion/gto/poblacion/default.aspx?tema=me&e=11)\n",
        "\n",
        "### Fuente Superficie Km<sup>2</sup> [Wikipedia](https://es.wikipedia.org/wiki/Anexo:Municipios_de_Guanajuato_por_superficie,_poblaci%C3%B3n_y_densidad)"
      ]
    },
    {
      "cell_type": "code",
      "metadata": {
        "id": "4B_dDloguuY9",
        "colab_type": "code",
        "colab": {}
      },
      "source": [
        "def densidad(poblacion, superficie):\n",
        "  return poblacion / superficie"
      ],
      "execution_count": null,
      "outputs": []
    }
  ]
}