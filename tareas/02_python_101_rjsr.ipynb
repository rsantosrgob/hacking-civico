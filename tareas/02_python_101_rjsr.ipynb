{
  "nbformat": 4,
  "nbformat_minor": 0,
  "metadata": {
    "colab": {
      "name": "02-python-101-rjsr.ipynb",
      "provenance": [],
      "authorship_tag": "ABX9TyOzvc8wZL7UxzG8kBmer1n+",
      "include_colab_link": true
    },
    "kernelspec": {
      "name": "python3",
      "display_name": "Python 3"
    }
  },
  "cells": [
    {
      "cell_type": "markdown",
      "metadata": {
        "id": "view-in-github",
        "colab_type": "text"
      },
      "source": [
        "<a href=\"https://colab.research.google.com/github/rsantosrgob/hacking-civico/blob/master/tareas/02_python_101_rjsr.ipynb\" target=\"_parent\"><img src=\"https://colab.research.google.com/assets/colab-badge.svg\" alt=\"Open In Colab\"/></a>"
      ]
    },
    {
      "cell_type": "markdown",
      "metadata": {
        "id": "Q4TblYASuzma",
        "colab_type": "text"
      },
      "source": [
        "#Tarea 2"
      ]
    },
    {
      "cell_type": "markdown",
      "metadata": {
        "id": "durnTAWhu5yX",
        "colab_type": "text"
      },
      "source": [
        "## Densidad poblacional\n",
        "\n",
        "\n",
        "\n",
        "* **Guanajuato capital:** 184,239 habitantes\n",
        "* **Edo. Guanajuato:** 5,853,677 habitantes\n",
        "* **México:** 119 530 753 habitantes\n"
      ]
    },
    {
      "cell_type": "markdown",
      "metadata": {
        "id": "oBIY6-dRvaZn",
        "colab_type": "text"
      },
      "source": [
        "# Superficies Km<sup>2</sup>\n",
        "\n",
        "* **Guanajuato capital:** 1014,54 Km<sup>2</sup>\n",
        "* **Edo. Guanajuato:** 30.607 Km<sup>2</sup>\n",
        "* **México:** 1,973,000,000 Km<sup>2</sup>"
      ]
    },
    {
      "cell_type": "markdown",
      "metadata": {
        "id": "ryycULE_wB9W",
        "colab_type": "text"
      },
      "source": [
        "### Fuente Densidad Poblacional [INEGI](http://cuentame.inegi.org.mx/monografias/informacion/gto/poblacion/default.aspx?tema=me&e=11)\n",
        "\n",
        "### Fuente Superficie Km<sup>2</sup> [Wikipedia](https://es.wikipedia.org/wiki/Anexo:Municipios_de_Guanajuato_por_superficie,_poblaci%C3%B3n_y_densidad)"
      ]
    },
    {
      "cell_type": "code",
      "metadata": {
        "id": "4B_dDloguuY9",
        "colab_type": "code",
        "colab": {}
      },
      "source": [
        "def formulaDensidadPoblacional(poblacion, superficie):\n",
        "  return poblacion / superficie"
      ],
      "execution_count": null,
      "outputs": []
    },
    {
      "cell_type": "code",
      "metadata": {
        "id": "0HK7VpZQyx1m",
        "colab_type": "code",
        "colab": {
          "base_uri": "https://localhost:8080/",
          "height": 68
        },
        "outputId": "094c7434-4e76-43c2-93f9-e8e7968681a9"
      },
      "source": [
        "print(\"Densidad Poblacional de Guanajuato, Guanajuato es: \", formulaDensidadPoblacional(184239,1014.54),\"hab/km^2\")\n",
        "print(\"Densidad poblacional del estado de Guanajuato es: \", formulaDensidadPoblacional(5853677,30607),\"hab/km^2\")\n",
        "print(\"Densidad poblacional de México es: \",formulaDensidadPoblacional(128649656,1964735),\"hab/km^2\")"
      ],
      "execution_count": null,
      "outputs": [
        {
          "output_type": "stream",
          "text": [
            "Densidad Poblacional de Guanajuato, Guanajuato es:  181.59855698148917 hab/km^2\n",
            "Densidad poblacional del estado de Guanajuato es:  191.25288332734343 hab/km^2\n",
            "Densidad poblacional de México es:  65.47939340419956 hab/km^2\n"
          ],
          "name": "stdout"
        }
      ]
    }
  ]
}